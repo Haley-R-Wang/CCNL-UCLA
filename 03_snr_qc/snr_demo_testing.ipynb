{
 "cells": [
  {
   "cell_type": "code",
   "execution_count": 9,
   "id": "6b4bb1af-c7ad-40bd-8a7a-1a7cf05b3597",
   "metadata": {},
   "outputs": [
    {
     "name": "stderr",
     "output_type": "stream",
     "text": [
      "/tmp/ipykernel_31866/2088246366.py:10: DeprecationWarning: get_data() is deprecated in favor of get_fdata(), which has a more predictable return type. To obtain get_data() behavior going forward, use numpy.asanyarray(img.dataobj).\n",
      "\n",
      "* deprecated from version: 3.0\n",
      "* Will raise <class 'nibabel.deprecator.ExpiredDeprecationError'> as of version: 5.0\n",
      "  data = img.get_data()\n"
     ]
    },
    {
     "name": "stdout",
     "output_type": "stream",
     "text": [
      "Computing brain mask...\n",
      "Computing tensors...\n",
      "Computing worst-case/best-case SNR using the corpus callosum...\n"
     ]
    }
   ],
   "source": [
    "from __future__ import division, print_function\n",
    "import nibabel as nib\n",
    "import numpy as np\n",
    "from dipy.data import fetch_stanford_hardi, read_stanford_hardi\n",
    "from dipy.segment.mask import median_otsu\n",
    "from dipy.reconst.dti import TensorModel\n",
    "\n",
    "fetch_stanford_hardi()\n",
    "img, gtab = read_stanford_hardi()\n",
    "data = img.get_data()\n",
    "affine = img.affine\n",
    "\n",
    "print('Computing brain mask...')\n",
    "b0_mask, mask = median_otsu(data, vol_idx=[0])\n",
    "\n",
    "print('Computing tensors...')\n",
    "tenmodel = TensorModel(gtab)\n",
    "tensorfit = tenmodel.fit(data, mask=mask)\n",
    "\n",
    "\"\"\"\n",
    "Next, we set our red-green-blue thresholds to (0.6, 1) in the x axis and\n",
    "(0, 0.1) in the y and z axes respectively. These values work well in practice\n",
    "to isolate the very RED voxels of the cfa map.\n",
    "\n",
    "Then, as assurance, we want just RED voxels in the CC (there could be noisy\n",
    "red voxels around the brain mask and we don't want those). Unless the brain\n",
    "acquisition was badly aligned, the CC is always close to the mid-sagittal\n",
    "slice.\n",
    "\n",
    "The following lines perform these two operations and then saves the\n",
    "computed mask.\n",
    "\n",
    "\"\"\"\n",
    "\n",
    "print('Computing worst-case/best-case SNR using the corpus callosum...')\n",
    "from dipy.segment.mask import segment_from_cfa\n",
    "from dipy.segment.mask import bounding_box\n",
    "\n",
    "threshold = (0.6, 1, 0, 0.1, 0, 0.1)\n",
    "CC_box = np.zeros_like(data[..., 0])\n",
    "\n",
    "mins, maxs = bounding_box(mask)\n",
    "mins = np.array(mins)\n",
    "maxs = np.array(maxs)\n",
    "diff = (maxs - mins) // 4\n",
    "bounds_min = mins + diff\n",
    "bounds_max = maxs - diff"
   ]
  },
  {
   "cell_type": "code",
   "execution_count": 13,
   "id": "b741a574-0c20-4097-bca5-b2e2d6e24c9a",
   "metadata": {},
   "outputs": [
    {
     "data": {
      "text/plain": [
       "({'HARDI150.nii.gz': ('https://stacks.stanford.edu/file/druid:yx282xq2090/dwi.nii.gz',\n",
       "   '0b18513b46132b4d1051ed3364f2acbc'),\n",
       "  'HARDI150.bval': ('https://stacks.stanford.edu/file/druid:yx282xq2090/dwi.bvals',\n",
       "   '4e08ee9e2b1d2ec3fddb68c70ae23c36'),\n",
       "  'HARDI150.bvec': ('https://stacks.stanford.edu/file/druid:yx282xq2090/dwi.bvecs',\n",
       "   '4c63a586f29afc6a48a5809524a76cb4')},\n",
       " '/u/home/h/haleywan/.dipy/stanford_hardi')"
      ]
     },
     "execution_count": 13,
     "metadata": {},
     "output_type": "execute_result"
    }
   ],
   "source": [
    "fetch_stanford_hardi()"
   ]
  },
  {
   "cell_type": "code",
   "execution_count": 10,
   "id": "55cc5d35-8301-4e23-b1cf-d2b3786840e9",
   "metadata": {},
   "outputs": [],
   "source": [
    "CC_box[bounds_min[0]:bounds_max[0],\n",
    "       bounds_min[1]:bounds_max[1],\n",
    "       bounds_min[2]:bounds_max[2]] = 1\n",
    "\n",
    "mask_cc_part, cfa = segment_from_cfa(tensorfit, CC_box, threshold,\n",
    "                                     return_cfa=True)\n",
    "\n",
    "cfa_img = nib.Nifti1Image((cfa*255).astype(np.uint8), affine)\n",
    "mask_cc_part_img = nib.Nifti1Image(mask_cc_part.astype(np.uint8), affine)\n",
    "nib.save(mask_cc_part_img, 'mask_CC_part.nii.gz')"
   ]
  },
  {
   "cell_type": "code",
   "execution_count": 11,
   "id": "0b7a6406-f41b-4da3-adf8-1a4513c526cb",
   "metadata": {},
   "outputs": [
    {
     "data": {
      "image/png": "[encoded data removed]",
      "text/plain": [
       "<Figure size 432x288 with 2 Axes>"
      ]
     },
     "metadata": {
      "needs_background": "light"
     },
     "output_type": "display_data"
    }
   ],
   "source": [
    "import matplotlib.pyplot as plt\n",
    "region = 40\n",
    "fig = plt.figure('Corpus callosum segmentation')\n",
    "plt.subplot(1, 2, 1)\n",
    "plt.title(\"Corpus callosum (CC)\")\n",
    "plt.axis('off')\n",
    "red = cfa[..., 0]\n",
    "plt.imshow(np.rot90(red[region, ...]))\n",
    "\n",
    "plt.subplot(1, 2, 2)\n",
    "plt.title(\"CC mask used for SNR computation\")\n",
    "plt.axis('off')\n",
    "plt.imshow(np.rot90(mask_cc_part[region, ...]))\n",
    "fig.savefig(\"CC_segmentation.png\", bbox_inches='tight')"
   ]
  },
  {
   "cell_type": "code",
   "execution_count": 12,
   "id": "b98a96eb-150b-49ef-8836-b631d6e32de4",
   "metadata": {},
   "outputs": [
    {
     "name": "stdout",
     "output_type": "stream",
     "text": [
      "Noise standard deviation sigma=  8.17113266785504\n",
      "SNR for the b=0 image is : 47.366354266706736\n",
      "SNR for direction 58   [ 0.98875  0.1177  -0.09229] is : 5.918432129721111\n",
      "SNR for direction 57   [-0.05039    0.99871    0.0054406] is : 26.72068171809924\n",
      "SNR for direction 126   [-0.11825  -0.039925  0.99218 ] is : 27.592653853373644\n"
     ]
    },
    {
     "data": {
      "text/plain": [
       "\"\\nReferences\\n----------\\n\\n.. [Descoteaux2011] Descoteaux, M., Deriche, R., Le Bihan, D., Mangin, J.-F.,\\n   and Poupon, C. Multiple q-shell diffusion propagator imaging. Medical Image\\n   Analysis, 15(4), 603, 2011.\\n\\n.. [Jones2013] Jones, D. K., Knosche, T. R., & Turner, R. White Matter\\n   Integrity, Fiber Count, and Other Fallacies: The Dos and Don'ts of Diffusion\\n   MRI. NeuroImage, 73, 239, 2013.\\n\\n\""
      ]
     },
     "execution_count": 12,
     "metadata": {},
     "output_type": "execute_result"
    }
   ],
   "source": [
    "\n",
    "\n",
    "\"\"\"\n",
    ".. figure:: CC_segmentation.png\n",
    "   :align: center\n",
    "\n",
    "\"\"\"\n",
    "\n",
    "\"\"\"Now that we are happy with our crude CC mask that selected voxels in the\n",
    "x-direction, we can use all the voxels to estimate the mean signal in this\n",
    "region.\n",
    "\n",
    "\"\"\"\n",
    "\n",
    "mean_signal = np.mean(data[mask_cc_part], axis=0)\n",
    "\n",
    "\"\"\"Now, we need a good background estimation. We will re-use the brain mask\n",
    "computed before and invert it to catch the outside of the brain. This could\n",
    "also be determined manually with a ROI in the background.\n",
    "[Warning: Certain MR manufacturers mask out the outside of the brain with 0's.\n",
    "One thus has to be careful how the noise ROI is defined].\n",
    "\"\"\"\n",
    "\n",
    "from scipy.ndimage.morphology import binary_dilation\n",
    "mask_noise = binary_dilation(mask, iterations=10)\n",
    "mask_noise[..., :mask_noise.shape[-1]//2] = 1\n",
    "mask_noise = ~mask_noise\n",
    "mask_noise_img = nib.Nifti1Image(mask_noise.astype(np.uint8), affine)\n",
    "nib.save(mask_noise_img, 'mask_noise.nii.gz')\n",
    "\n",
    "noise_std = np.std(data[mask_noise, :])\n",
    "print('Noise standard deviation sigma= ', noise_std)\n",
    "\n",
    "\"\"\"We can now compute the SNR for each DWI. For example, report SNR\n",
    "for DW images with gradient direction that lies the closest to\n",
    "the X, Y and Z axes.\n",
    "\"\"\"\n",
    "\n",
    "# Exclude null bvecs from the search\n",
    "idx = np.sum(gtab.bvecs, axis=-1) == 0\n",
    "gtab.bvecs[idx] = np.inf\n",
    "axis_X = np.argmin(np.sum((gtab.bvecs-np.array([1, 0, 0]))**2, axis=-1))\n",
    "axis_Y = np.argmin(np.sum((gtab.bvecs-np.array([0, 1, 0]))**2, axis=-1))\n",
    "axis_Z = np.argmin(np.sum((gtab.bvecs-np.array([0, 0, 1]))**2, axis=-1))\n",
    "\n",
    "for direction in [0, axis_X, axis_Y, axis_Z]:\n",
    "    SNR = mean_signal[direction]/noise_std\n",
    "    if direction == 0:\n",
    "        print(\"SNR for the b=0 image is :\", SNR)\n",
    "    else:\n",
    "        print(\"SNR for direction\", direction, \" \",\n",
    "              gtab.bvecs[direction], \"is :\", SNR)\n",
    "\n",
    "\"\"\"SNR for the b=0 image is : ''42.0695455758''\"\"\"\n",
    "\"\"\"SNR for direction 58  [ 0.98875  0.1177  -0.09229] is : ''5.46995373635''\"\"\"\n",
    "\"\"\"SNR for direction 57  [-0.05039  0.99871  0.0054406] is : ''23.9329492871''\"\"\"\n",
    "\"\"\"SNR for direction 126 [-0.11825  -0.039925  0.99218 ] is : ''23.9965694823''\"\"\"\n",
    "\n",
    "\"\"\"\n",
    "\n",
    "Since the CC is aligned with the X axis, the lowest SNR is for that gradient\n",
    "direction. In comparison, the DW images in the perpendical Y and Z axes have a\n",
    "high SNR. The b0 still exhibits the highest SNR, since there is no signal\n",
    "attenuation.\n",
    "\n",
    "Hence, we can say the Stanford diffusion data has a 'worst-case' SNR of\n",
    "approximately 5, a 'best-case' SNR of approximately 24, and a SNR of 42 on the\n",
    "b0 image.\n",
    "\n",
    "\"\"\"\n",
    "\n",
    "\"\"\"\n",
    "References\n",
    "----------\n",
    "\n",
    ".. [Descoteaux2011] Descoteaux, M., Deriche, R., Le Bihan, D., Mangin, J.-F.,\n",
    "   and Poupon, C. Multiple q-shell diffusion propagator imaging. Medical Image\n",
    "   Analysis, 15(4), 603, 2011.\n",
    "\n",
    ".. [Jones2013] Jones, D. K., Knosche, T. R., & Turner, R. White Matter\n",
    "   Integrity, Fiber Count, and Other Fallacies: The Dos and Don'ts of Diffusion\n",
    "   MRI. NeuroImage, 73, 239, 2013.\n",
    "\n",
    "\"\"\"\n"
   ]
  },
  {
   "cell_type": "code",
   "execution_count": null,
   "id": "149be09a-6907-4eab-88ad-7fee8bd2c962",
   "metadata": {},
   "outputs": [],
   "source": []
  }
 ],
 "metadata": {
  "kernelspec": {
   "display_name": "Python 3 (ipykernel)",
   "language": "python",
   "name": "python3"
  },
  "language_info": {
   "codemirror_mode": {
    "name": "ipython",
    "version": 3
   },
   "file_extension": ".py",
   "mimetype": "text/x-python",
   "name": "python",
   "nbconvert_exporter": "python",
   "pygments_lexer": "ipython3",
   "version": "3.9.6"
  }
 },
 "nbformat": 4,
 "nbformat_minor": 5
}
