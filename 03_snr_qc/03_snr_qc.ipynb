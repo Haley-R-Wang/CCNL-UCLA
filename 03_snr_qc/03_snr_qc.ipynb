{
 "cells": [
  {
   "cell_type": "code",
   "execution_count": null,
   "id": "46fc07b5",
   "metadata": {},
   "outputs": [],
   "source": [
    "\"\"\"\n",
    "\n",
    "Source of code: https://dipy.org/documentation/1.0.0./examples_built/snr_in_cc/\n",
    "Adapted for HCP_EOP dataset by Haley R. Wang (haleywang@ucla.edu), Jan 2022\n",
    "\n",
    "\"\"\""
   ]
  },
  {
   "cell_type": "code",
   "execution_count": 1,
   "id": "8a336014",
   "metadata": {
    "tags": []
   },
   "outputs": [],
   "source": [
    "from __future__ import division, print_function\n",
    "\n",
    "import os\n",
    "from os.path import expanduser, join\n",
    "\n",
    "import numpy as np\n",
    "import nibabel as nib\n",
    "from dipy.segment.mask import median_otsu\n",
    "from dipy.reconst.dti import TensorModel\n",
    "from dipy.io.image import load_nifti\n"
   ]
  },
  {
   "cell_type": "code",
   "execution_count": 9,
   "id": "861f06c5",
   "metadata": {},
   "outputs": [
    {
     "name": "stdout",
     "output_type": "stream",
     "text": [
      "/u/project/CCN/kkarlsgo/data/HCP/HCP_EOP/imagingcollection01/AP/1022_01_MR/Diffusion_preproc/eddy_multishell/1022_01_MR_dMRI_dir107_AP.bval\n",
      "/u/project/CCN/kkarlsgo/data/HCP/HCP_EOP/imagingcollection01/AP/1066_01_MR/Diffusion_preproc/eddy_multishell/1066_01_MR_dMRI_dir107_AP.bval\n",
      "/u/project/CCN/kkarlsgo/data/HCP/HCP_EOP/imagingcollection01/AP/1076_01_MR/Diffusion_preproc/eddy_multishell/1076_01_MR_dMRI_dir107_AP.bval\n",
      "/u/project/CCN/kkarlsgo/data/HCP/HCP_EOP/imagingcollection01/AP/1083_01_MR/Diffusion_preproc/eddy_multishell/1083_01_MR_dMRI_dir107_AP.bval\n",
      "/u/project/CCN/kkarlsgo/data/HCP/HCP_EOP/imagingcollection01/AP/1086_01_MR/Diffusion_preproc/eddy_multishell/1086_01_MR_dMRI_dir107_AP.bval\n",
      "/u/project/CCN/kkarlsgo/data/HCP/HCP_EOP/imagingcollection01/AP/1089_01_MR/Diffusion_preproc/eddy_multishell/1089_01_MR_dMRI_dir107_AP.bval\n",
      "/u/project/CCN/kkarlsgo/data/HCP/HCP_EOP/imagingcollection01/AP/1094_01_MR/Diffusion_preproc/eddy_multishell/1094_01_MR_dMRI_dir107_AP.bval\n",
      "/u/project/CCN/kkarlsgo/data/HCP/HCP_EOP/imagingcollection01/AP/2005_01_MR/Diffusion_preproc/eddy_multishell/2005_01_MR_dMRI_dir107_AP.bval\n",
      "/u/project/CCN/kkarlsgo/data/HCP/HCP_EOP/imagingcollection01/AP/2007_01_MR/Diffusion_preproc/eddy_multishell/2007_01_MR_dMRI_dir107_AP.bval\n",
      "/u/project/CCN/kkarlsgo/data/HCP/HCP_EOP/imagingcollection01/AP/2016_01_MR/Diffusion_preproc/eddy_multishell/2016_01_MR_dMRI_dir107_AP.bval\n",
      "/u/project/CCN/kkarlsgo/data/HCP/HCP_EOP/imagingcollection01/AP/2040_01_MR/Diffusion_preproc/eddy_multishell/2040_01_MR_dMRI_dir107_AP.bval\n",
      "/u/project/CCN/kkarlsgo/data/HCP/HCP_EOP/imagingcollection01/AP/2041_01_MR/Diffusion_preproc/eddy_multishell/2041_01_MR_dMRI_dir107_AP.bval\n",
      "/u/project/CCN/kkarlsgo/data/HCP/HCP_EOP/imagingcollection01/AP/2065_01_MR/Diffusion_preproc/eddy_multishell/2065_01_MR_dMRI_dir107_AP.bval\n",
      "/u/project/CCN/kkarlsgo/data/HCP/HCP_EOP/imagingcollection01/AP/3025_01_MR/Diffusion_preproc/eddy_multishell/3025_01_MR_dMRI_dir107_AP.bval\n",
      "/u/project/CCN/kkarlsgo/data/HCP/HCP_EOP/imagingcollection01/AP/3040_01_MR/Diffusion_preproc/eddy_multishell/3040_01_MR_dMRI_dir107_AP.bval\n",
      "/u/project/CCN/kkarlsgo/data/HCP/HCP_EOP/imagingcollection01/AP/4004_01_MR/Diffusion_preproc/eddy_multishell/4004_01_MR_dMRI_dir107_AP.bval\n",
      "/u/project/CCN/kkarlsgo/data/HCP/HCP_EOP/imagingcollection01/AP/4015_01_MR/Diffusion_preproc/eddy_multishell/4015_01_MR_dMRI_dir107_AP.bval\n",
      "/u/project/CCN/kkarlsgo/data/HCP/HCP_EOP/imagingcollection01/AP/4023_01_MR/Diffusion_preproc/eddy_multishell/4023_01_MR_dMRI_dir107_AP.bval\n",
      "/u/project/CCN/kkarlsgo/data/HCP/HCP_EOP/imagingcollection01/AP/4024_01_MR/Diffusion_preproc/eddy_multishell/4024_01_MR_dMRI_dir107_AP.bval\n",
      "/u/project/CCN/kkarlsgo/data/HCP/HCP_EOP/imagingcollection01/AP/4027_01_MR/Diffusion_preproc/eddy_multishell/4027_01_MR_dMRI_dir107_AP.bval\n",
      "/u/project/CCN/kkarlsgo/data/HCP/HCP_EOP/imagingcollection01/AP/4029_01_MR/Diffusion_preproc/eddy_multishell/4029_01_MR_dMRI_dir107_AP.bval\n",
      "/u/project/CCN/kkarlsgo/data/HCP/HCP_EOP/imagingcollection01/AP/4031_01_MR/Diffusion_preproc/eddy_multishell/4031_01_MR_dMRI_dir107_AP.bval\n",
      "/u/project/CCN/kkarlsgo/data/HCP/HCP_EOP/imagingcollection01/AP/4035_01_MR/Diffusion_preproc/eddy_multishell/4035_01_MR_dMRI_dir107_AP.bval\n",
      "/u/project/CCN/kkarlsgo/data/HCP/HCP_EOP/imagingcollection01/AP/4037_01_MR/Diffusion_preproc/eddy_multishell/4037_01_MR_dMRI_dir107_AP.bval\n",
      "/u/project/CCN/kkarlsgo/data/HCP/HCP_EOP/imagingcollection01/AP/4038_01_MR/Diffusion_preproc/eddy_multishell/4038_01_MR_dMRI_dir107_AP.bval\n",
      "/u/project/CCN/kkarlsgo/data/HCP/HCP_EOP/imagingcollection01/AP/4050_01_MR/Diffusion_preproc/eddy_multishell/4050_01_MR_dMRI_dir107_AP.bval\n",
      "/u/project/CCN/kkarlsgo/data/HCP/HCP_EOP/imagingcollection01/AP/4052_01_MR/Diffusion_preproc/eddy_multishell/4052_01_MR_dMRI_dir107_AP.bval\n",
      "/u/project/CCN/kkarlsgo/data/HCP/HCP_EOP/imagingcollection01/AP/4053_01_MR/Diffusion_preproc/eddy_multishell/4053_01_MR_dMRI_dir107_AP.bval\n",
      "/u/project/CCN/kkarlsgo/data/HCP/HCP_EOP/imagingcollection01/AP/4057_01_MR/Diffusion_preproc/eddy_multishell/4057_01_MR_dMRI_dir107_AP.bval\n",
      "/u/project/CCN/kkarlsgo/data/HCP/HCP_EOP/imagingcollection01/AP/4058_01_MR/Diffusion_preproc/eddy_multishell/4058_01_MR_dMRI_dir107_AP.bval\n",
      "/u/project/CCN/kkarlsgo/data/HCP/HCP_EOP/imagingcollection01/AP/4064_01_MR/Diffusion_preproc/eddy_multishell/4064_01_MR_dMRI_dir107_AP.bval\n",
      "/u/project/CCN/kkarlsgo/data/HCP/HCP_EOP/imagingcollection01/AP/4066_01_MR/Diffusion_preproc/eddy_multishell/4066_01_MR_dMRI_dir107_AP.bval\n",
      "/u/project/CCN/kkarlsgo/data/HCP/HCP_EOP/imagingcollection01/AP/4071_01_MR/Diffusion_preproc/eddy_multishell/4071_01_MR_dMRI_dir107_AP.bval\n",
      "/u/project/CCN/kkarlsgo/data/HCP/HCP_EOP/imagingcollection01/AP/4088_01_MR/Diffusion_preproc/eddy_multishell/4088_01_MR_dMRI_dir107_AP.bval\n"
     ]
    }
   ],
   "source": [
    "# build the loop for subjects\n",
    "# assign directory\n",
    "\n",
    "# change group\n",
    "#group = 'control'\n",
    "group = 'AP'\n",
    "#group = 'NAP'\n",
    "\n",
    "home = expanduser('/u/project/CCN/kkarlsgo/data/HCP/HCP_EOP/imagingcollection01')\n",
    "directory = join(home,group)\n",
    "append_str='_01_MR'\n",
    "bval_str='_dMRI_dir107_AP.bval'\n",
    "bvec_str='_dMRI_dir107_AP.bvec'\n",
    "\n",
    "#change the subj list when \n",
    "with open('/u/project/CCN/kkarlsgo/data/HCP/HCP_EOP/imagingcollection01/subj_list/AP_subj.txt', 'r') as SUBJ_List:\n",
    "    for subj in SUBJ_List:\n",
    "        \n",
    "        #setting file name and path etc.\n",
    "        subj = subj + append_str\n",
    "        subj = subj.replace(\"\\n\", \"\")\n",
    "        subj = subj.replace('\\t',',')\n",
    "        \n",
    "        fbval = subj + bval_str\n",
    "        fbvec = subj + bvec_str\n",
    "        \n",
    "        eddy_folder = os.path.join(directory, subj,'Diffusion_preproc','eddy_multishell')\n",
    "        fbval = join(eddy_folder,fbval)\n",
    "        fbvec = join(eddy_folder,fbvec)\n",
    "            \n",
    "        subj_data = join(eddy_folder,'eddy_unwarped_images_dir107.nii.gz')\n",
    "        data, affine, img = load_nifti(subj_data, return_img=True)\n",
    "        \n",
    "        # checking if it is a file\n",
    "#         if os.path.isfile(subj_data):\n",
    "#             print(subj_data)"
   ]
  },
  {
   "cell_type": "code",
   "execution_count": null,
   "id": "fc33a095",
   "metadata": {},
   "outputs": [],
   "source": [
    "from dipy.io import read_bvals_bvecs\n",
    "bvals, bvecs = read_bvals_bvecs(fbval, fbvec)\n",
    "\n",
    "from dipy.core.gradients import gradient_table\n",
    "gtab = gradient_table(bvals, bvecs)"
   ]
  },
  {
   "cell_type": "code",
   "execution_count": null,
   "id": "b9d20bca",
   "metadata": {},
   "outputs": [],
   "source": [
    "print('Computing brain mask...')\n",
    "b0_mask, mask = median_otsu(data, vol_idx=[0])\n",
    "\n",
    "print('Computing tensors...')\n",
    "tenmodel = TensorModel(gtab)\n",
    "tensorfit = tenmodel.fit(data, mask=mask)"
   ]
  },
  {
   "cell_type": "code",
   "execution_count": null,
   "id": "86ea8ce5",
   "metadata": {},
   "outputs": [],
   "source": [
    "print('Computing worst-case/best-case SNR using the corpus callosum...')\n",
    "from dipy.segment.mask import segment_from_cfa\n",
    "from dipy.segment.mask import bounding_box\n",
    "\n",
    "threshold = (0.6, 1, 0, 0.1, 0, 0.1)\n",
    "CC_box = np.zeros_like(data[..., 0])\n",
    "\n",
    "mins, maxs = bounding_box(mask)\n",
    "mins = np.array(mins)\n",
    "maxs = np.array(maxs)\n",
    "diff = (maxs - mins) // 4\n",
    "bounds_min = mins + diff\n",
    "bounds_max = maxs - diff\n",
    "\n",
    "CC_box[bounds_min[0]:bounds_max[0],\n",
    "       bounds_min[1]:bounds_max[1],\n",
    "       bounds_min[2]:bounds_max[2]] = 1\n",
    "\n",
    "mask_cc_part, cfa = segment_from_cfa(tensorfit, CC_box, threshold,\n",
    "                                     return_cfa=True)\n",
    "\n",
    "cfa_img = nib.Nifti1Image((cfa*255).astype(np.uint8), affine)\n",
    "mask_cc_part_img = nib.Nifti1Image(mask_cc_part.astype(np.uint8), affine)\n",
    "nib.save(mask_cc_part_img, 'mask_CC_part.nii.gz')"
   ]
  },
  {
   "cell_type": "code",
   "execution_count": null,
   "id": "d79a264e",
   "metadata": {},
   "outputs": [],
   "source": [
    "import matplotlib.pyplot as plt\n",
    "region = 72\n",
    "fig = plt.figure('Corpus callosum segmentation')\n",
    "plt.subplot(1, 2, 1)\n",
    "plt.title(\"Corpus callosum (CC)\")\n",
    "plt.axis('off')\n",
    "red = cfa[..., 0]\n",
    "plt.imshow(np.rot90(red[region, ...]))\n",
    "\n",
    "plt.subplot(1, 2, 2)\n",
    "plt.title(\"CC mask used for SNR computation\")\n",
    "plt.axis('off')\n",
    "plt.imshow(np.rot90(mask_cc_part[region, ...]))\n",
    "fig.savefig(\"CC_segmentation.png\", bbox_inches='tight')\n"
   ]
  },
  {
   "cell_type": "code",
   "execution_count": null,
   "id": "61d3320c",
   "metadata": {},
   "outputs": [],
   "source": [
    "mean_signal = np.mean(data[mask_cc_part], axis=0)\n"
   ]
  },
  {
   "cell_type": "code",
   "execution_count": null,
   "id": "cecf990e",
   "metadata": {},
   "outputs": [],
   "source": [
    "\n",
    "from scipy.ndimage.morphology import binary_dilation\n",
    "mask_noise = binary_dilation(mask, iterations=10)\n",
    "mask_noise[..., :mask_noise.shape[-1]//2] = 1\n",
    "mask_noise = ~mask_noise\n",
    "mask_noise_img = nib.Nifti1Image(mask_noise.astype(np.uint8), affine)\n",
    "nib.save(mask_noise_img, 'mask_noise.nii.gz')\n",
    "\n",
    "noise_std = np.std(data[mask_noise, :])\n",
    "print('Noise standard deviation sigma= ', noise_std)\n"
   ]
  },
  {
   "cell_type": "code",
   "execution_count": null,
   "id": "b131b901",
   "metadata": {},
   "outputs": [],
   "source": [
    "# Exclude null bvecs from the search\n",
    "idx = np.sum(gtab.bvecs, axis=-1) == 0\n",
    "gtab.bvecs[idx] = np.inf\n",
    "axis_X = np.argmin(np.sum((gtab.bvecs-np.array([1, 0, 0]))**2, axis=-1))\n",
    "axis_Y = np.argmin(np.sum((gtab.bvecs-np.array([0, 1, 0]))**2, axis=-1))\n",
    "axis_Z = np.argmin(np.sum((gtab.bvecs-np.array([0, 0, 1]))**2, axis=-1))\n",
    "\n",
    "for direction in [0, axis_X, axis_Y, axis_Z]:\n",
    "    SNR = mean_signal[direction]/noise_std\n",
    "    if direction == 0:\n",
    "        print(\"SNR for the b=0 image is :\", SNR)\n",
    "    else:\n",
    "        print(\"SNR for direction\", direction, \" \",\n",
    "              gtab.bvecs[direction], \"is :\", SNR)"
   ]
  }
 ],
 "metadata": {
  "kernelspec": {
   "display_name": "Python 3 (ipykernel)",
   "language": "python",
   "name": "python3"
  },
  "language_info": {
   "codemirror_mode": {
    "name": "ipython",
    "version": 3
   },
   "file_extension": ".py",
   "mimetype": "text/x-python",
   "name": "python",
   "nbconvert_exporter": "python",
   "pygments_lexer": "ipython3",
   "version": "3.9.6"
  }
 },
 "nbformat": 4,
 "nbformat_minor": 5
}
